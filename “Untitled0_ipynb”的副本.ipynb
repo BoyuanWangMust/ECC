{
  "nbformat": 4,
  "nbformat_minor": 0,
  "metadata": {
    "colab": {
      "name": "“Untitled0.ipynb”的副本",
      "provenance": [],
      "collapsed_sections": [],
      "mount_file_id": "1FDTgusD07ZOi24rXMF8Ae-9IOmVlKr2q",
      "authorship_tag": "ABX9TyPKeMnXFLTqyk1fR8Ga6+e5",
      "include_colab_link": true
    },
    "kernelspec": {
      "name": "python3",
      "display_name": "Python 3"
    },
    "language_info": {
      "name": "python"
    },
    "accelerator": "GPU"
  },
  "cells": [
    {
      "cell_type": "markdown",
      "metadata": {
        "id": "view-in-github",
        "colab_type": "text"
      },
      "source": [
        "<a href=\"https://colab.research.google.com/github/BoyuanWangMust/ECC/blob/main/%E2%80%9CUntitled0_ipynb%E2%80%9D%E7%9A%84%E5%89%AF%E6%9C%AC.ipynb\" target=\"_parent\"><img src=\"https://colab.research.google.com/assets/colab-badge.svg\" alt=\"Open In Colab\"/></a>"
      ]
    },
    {
      "cell_type": "code",
      "metadata": {
        "id": "VgmvJ3MPwMoO"
      },
      "source": [
        ""
      ],
      "execution_count": null,
      "outputs": []
    },
    {
      "cell_type": "code",
      "metadata": {
        "id": "kTRkk0FFwN9h"
      },
      "source": [
        ""
      ],
      "execution_count": null,
      "outputs": []
    },
    {
      "cell_type": "markdown",
      "metadata": {
        "id": "DQeMb4MgwOgZ"
      },
      "source": [
        "# 新段落"
      ]
    },
    {
      "cell_type": "code",
      "metadata": {
        "colab": {
          "base_uri": "https://localhost:8080/"
        },
        "id": "HC3nxPSx2tT8",
        "outputId": "383a5e42-e646-460e-fe80-1333391b3187"
      },
      "source": [
        "!git clone https://github.com/aliayub7/EEC"
      ],
      "execution_count": null,
      "outputs": [
        {
          "output_type": "stream",
          "name": "stdout",
          "text": [
            "Cloning into 'EEC'...\n",
            "remote: Enumerating objects: 77, done.\u001b[K\n",
            "remote: Counting objects: 100% (77/77), done.\u001b[K\n",
            "remote: Compressing objects: 100% (75/75), done.\u001b[K\n",
            "remote: Total 77 (delta 14), reused 0 (delta 0), pack-reused 0\u001b[K\n",
            "Unpacking objects: 100% (77/77), done.\n"
          ]
        }
      ]
    },
    {
      "cell_type": "code",
      "metadata": {
        "id": "fu1wLlJ23tS6",
        "colab": {
          "base_uri": "https://localhost:8080/"
        },
        "outputId": "c8cc282b-a45d-4011-9919-d813a62102eb"
      },
      "source": [
        "%cd drive/MyDrive/Colab\\ Notebooks/EEC"
      ],
      "execution_count": null,
      "outputs": [
        {
          "output_type": "stream",
          "name": "stdout",
          "text": [
            "/content/drive/MyDrive/Colab Notebooks/EEC\n"
          ]
        }
      ]
    },
    {
      "cell_type": "code",
      "metadata": {
        "id": "GDVwLIGY3z_8"
      },
      "source": [
        "%rm -rf runs\n",
        "!python detect.py"
      ],
      "execution_count": null,
      "outputs": []
    }
  ]
}