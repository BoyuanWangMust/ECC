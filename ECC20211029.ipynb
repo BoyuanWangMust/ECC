{
  "nbformat": 4,
  "nbformat_minor": 0,
  "metadata": {
    "colab": {
      "name": "“Untitled0.ipynb”的副本",
      "provenance": [],
      "collapsed_sections": [],
      "mount_file_id": "1FDTgusD07ZOi24rXMF8Ae-9IOmVlKr2q",
      "authorship_tag": "ABX9TyPWII+GHmU9Lpgbhvt1kgWq",
      "include_colab_link": true
    },
    "kernelspec": {
      "name": "python3",
      "display_name": "Python 3"
    },
    "language_info": {
      "name": "python"
    },
    "accelerator": "GPU"
  },
  "cells": [
    {
      "cell_type": "markdown",
      "metadata": {
        "id": "view-in-github",
        "colab_type": "text"
      },
      "source": [
        "<a href=\"https://colab.research.google.com/github/BoyuanWangMust/ECC/blob/main/ECC20211029.ipynb\" target=\"_parent\"><img src=\"https://colab.research.google.com/assets/colab-badge.svg\" alt=\"Open In Colab\"/></a>"
      ]
    },
    {
      "cell_type": "code",
      "metadata": {
        "id": "VgmvJ3MPwMoO"
      },
      "source": [
        ""
      ],
      "execution_count": null,
      "outputs": []
    },
    {
      "cell_type": "code",
      "metadata": {
        "id": "kTRkk0FFwN9h"
      },
      "source": [
        ""
      ],
      "execution_count": null,
      "outputs": []
    },
    {
      "cell_type": "markdown",
      "metadata": {
        "id": "DQeMb4MgwOgZ"
      },
      "source": [
        "# 新段落"
      ]
    },
    {
      "cell_type": "code",
      "metadata": {
        "colab": {
          "base_uri": "https://localhost:8080/"
        },
        "id": "HC3nxPSx2tT8",
        "outputId": "383a5e42-e646-460e-fe80-1333391b3187"
      },
      "source": [
        "!git clone https://github.com/aliayub7/EEC"
      ],
      "execution_count": null,
      "outputs": [
        {
          "output_type": "stream",
          "name": "stdout",
          "text": [
            "Cloning into 'EEC'...\n",
            "remote: Enumerating objects: 77, done.\u001b[K\n",
            "remote: Counting objects: 100% (77/77), done.\u001b[K\n",
            "remote: Compressing objects: 100% (75/75), done.\u001b[K\n",
            "remote: Total 77 (delta 14), reused 0 (delta 0), pack-reused 0\u001b[K\n",
            "Unpacking objects: 100% (77/77), done.\n"
          ]
        }
      ]
    },
    {
      "cell_type": "code",
      "metadata": {
        "id": "fu1wLlJ23tS6",
        "colab": {
          "base_uri": "https://localhost:8080/"
        },
        "outputId": "fdacf16f-a0c7-48cf-d720-0b3386955bd9"
      },
      "source": [
        "%cd drive/MyDrive/Colab\\ Notebooks/EEC"
      ],
      "execution_count": 2,
      "outputs": [
        {
          "output_type": "stream",
          "name": "stdout",
          "text": [
            "/content/drive/MyDrive/Colab Notebooks/EEC\n"
          ]
        }
      ]
    },
    {
      "cell_type": "code",
      "metadata": {
        "id": "GDVwLIGY3z_8",
        "colab": {
          "base_uri": "https://localhost:8080/"
        },
        "outputId": "fe883144-e4ee-4b3f-bf95-f87003c9f883"
      },
      "source": [
        "%rm -rf runs\n",
        "!python multiple_auto_decay.py"
      ],
      "execution_count": 5,
      "outputs": [
        {
          "output_type": "stream",
          "name": "stdout",
          "text": [
            "This is increment number:  0\n",
            "classes to be loaded [878, 0, 349, 313, 382, 850, 927, 194, 261, 946]\n",
            "multiprocessing.pool.RemoteTraceback: \n",
            "\"\"\"\n",
            "Traceback (most recent call last):\n",
            "  File \"/usr/lib/python3.7/multiprocessing/pool.py\", line 121, in worker\n",
            "    result = (True, func(*args, **kwds))\n",
            "  File \"/usr/lib/python3.7/multiprocessing/pool.py\", line 44, in mapstar\n",
            "    return list(map(*args))\n",
            "  File \"/content/drive/My Drive/Colab Notebooks/EEC/get_incremental_data.py\", line 20, in get_images\n",
            "    for file in os.listdir(path):\n",
            "FileNotFoundError: [Errno 2] No such file or directory: '/media/ali/860 Evo/ali/ILSVRC2012_Train/0'\n",
            "\"\"\"\n",
            "\n",
            "The above exception was the direct cause of the following exception:\n",
            "\n",
            "Traceback (most recent call last):\n",
            "  File \"multiple_auto_decay.py\", line 152, in <module>\n",
            "    train_images_increment,train_labels_increment,test_images_increment,test_labels_increment = incremental_data_creator.incremental_data_per_increment(increment)\n",
            "  File \"/content/drive/My Drive/Colab Notebooks/EEC/get_incremental_data.py\", line 73, in incremental_data_per_increment\n",
            "    return_pack = my_pool.map(get_images,pack)\n",
            "  File \"/usr/lib/python3.7/multiprocessing/pool.py\", line 268, in map\n",
            "    return self._map_async(func, iterable, mapstar, chunksize).get()\n",
            "  File \"/usr/lib/python3.7/multiprocessing/pool.py\", line 657, in get\n",
            "    raise self._value\n",
            "FileNotFoundError: [Errno 2] No such file or directory: '/media/ali/860 Evo/ali/ILSVRC2012_Train/0'\n"
          ]
        }
      ]
    },
    {
      "cell_type": "code",
      "metadata": {
        "id": "Sv0fh_3P7_Ch"
      },
      "source": [
        "import torch"
      ],
      "execution_count": 4,
      "outputs": []
    },
    {
      "cell_type": "code",
      "metadata": {
        "colab": {
          "base_uri": "https://localhost:8080/",
          "height": 35
        },
        "id": "oEloeywW7_Hu",
        "outputId": "61a7e007-b4be-4057-ef9e-c3c6a3e1f707"
      },
      "source": [
        "import tensorflow as tf\n",
        "tf.test.gpu_device_name()"
      ],
      "execution_count": 6,
      "outputs": [
        {
          "output_type": "execute_result",
          "data": {
            "application/vnd.google.colaboratory.intrinsic+json": {
              "type": "string"
            },
            "text/plain": [
              "'/device:GPU:0'"
            ]
          },
          "metadata": {},
          "execution_count": 6
        }
      ]
    },
    {
      "cell_type": "code",
      "metadata": {
        "colab": {
          "base_uri": "https://localhost:8080/"
        },
        "id": "wLvYNAyBC5DK",
        "outputId": "891bc655-b5e4-43bf-e1ca-0e7415a18639"
      },
      "source": [
        "import torch\n",
        "x = torch.empty(5, 3)\n",
        "print(x)"
      ],
      "execution_count": 7,
      "outputs": [
        {
          "output_type": "stream",
          "name": "stdout",
          "text": [
            "tensor([[3.2246e+08, 3.0718e-41, 3.3631e-44],\n",
            "        [0.0000e+00,        nan, 3.0718e-41],\n",
            "        [1.1578e+27, 1.1362e+30, 7.1547e+22],\n",
            "        [4.5828e+30, 1.2121e+04, 7.1846e+22],\n",
            "        [9.2198e-39, 7.0374e+22, 0.0000e+00]])\n"
          ]
        }
      ]
    },
    {
      "cell_type": "code",
      "metadata": {
        "colab": {
          "base_uri": "https://localhost:8080/"
        },
        "id": "aUYn2mF7C78P",
        "outputId": "0eb19f76-1eb3-458c-ae2e-699cfc1de6d7"
      },
      "source": [
        "!nvidia-smi"
      ],
      "execution_count": 9,
      "outputs": [
        {
          "output_type": "stream",
          "name": "stdout",
          "text": [
            "Fri Oct 29 03:19:17 2021       \n",
            "+-----------------------------------------------------------------------------+\n",
            "| NVIDIA-SMI 495.29.05    Driver Version: 460.32.03    CUDA Version: 11.2     |\n",
            "|-------------------------------+----------------------+----------------------+\n",
            "| GPU  Name        Persistence-M| Bus-Id        Disp.A | Volatile Uncorr. ECC |\n",
            "| Fan  Temp  Perf  Pwr:Usage/Cap|         Memory-Usage | GPU-Util  Compute M. |\n",
            "|                               |                      |               MIG M. |\n",
            "|===============================+======================+======================|\n",
            "|   0  Tesla K80           Off  | 00000000:00:04.0 Off |                    0 |\n",
            "| N/A   73C    P0    71W / 149W |    553MiB / 11441MiB |      0%      Default |\n",
            "|                               |                      |                  N/A |\n",
            "+-------------------------------+----------------------+----------------------+\n",
            "                                                                               \n",
            "+-----------------------------------------------------------------------------+\n",
            "| Processes:                                                                  |\n",
            "|  GPU   GI   CI        PID   Type   Process name                  GPU Memory |\n",
            "|        ID   ID                                                   Usage      |\n",
            "|=============================================================================|\n",
            "|  No running processes found                                                 |\n",
            "+-----------------------------------------------------------------------------+\n"
          ]
        }
      ]
    }
  ]
}